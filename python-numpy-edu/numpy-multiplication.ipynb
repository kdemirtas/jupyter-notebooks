{
 "cells": [
  {
   "cell_type": "markdown",
   "metadata": {},
   "source": [
    "# Multiplication operations with numpy arrays"
   ]
  },
  {
   "cell_type": "code",
   "execution_count": 12,
   "metadata": {},
   "outputs": [],
   "source": [
    "import numpy as np"
   ]
  },
  {
   "cell_type": "code",
   "execution_count": 13,
   "metadata": {},
   "outputs": [
    {
     "name": "stdout",
     "output_type": "stream",
     "text": [
      "c = [ 4 10 18] \n",
      " Type: <class 'numpy.ndarray'> \n",
      " Shape: (3,)\n"
     ]
    }
   ],
   "source": [
    "a = np.array([1, 2, 3])\n",
    "b = np.array([4, 5, 6])\n",
    "c = a * b\n",
    "print(\"c =\", c,\"\\n\", \"Type:\", type(c), \"\\n\", \"Shape:\", c.shape)"
   ]
  },
  {
   "cell_type": "code",
   "execution_count": 14,
   "metadata": {},
   "outputs": [
    {
     "name": "stdout",
     "output_type": "stream",
     "text": [
      "c = [ 4 10 18] \n",
      " Type: <class 'numpy.ndarray'> \n",
      " Shape: (3,)\n"
     ]
    }
   ],
   "source": [
    "c = np.multiply(a, b)\n",
    "print(\"c =\", c,\"\\n\", \"Type:\", type(c), \"\\n\", \"Shape:\", c.shape)"
   ]
  },
  {
   "cell_type": "code",
   "execution_count": 15,
   "metadata": {},
   "outputs": [
    {
     "name": "stdout",
     "output_type": "stream",
     "text": [
      "c = 32 \n",
      " Type: <class 'numpy.int32'> \n",
      " Shape: ()\n",
      "c = 32 \n",
      " Type: <class 'numpy.int32'> \n",
      " Shape: ()\n",
      "c = 32 \n",
      " Type: <class 'numpy.int32'> \n",
      " Shape: ()\n"
     ]
    }
   ],
   "source": [
    "c = np.dot(a, b)\n",
    "print(\"c =\", c,\"\\n\", \"Type:\", type(c), \"\\n\", \"Shape:\", c.shape)\n",
    "\n",
    "c = np.dot(a, b.T)\n",
    "print(\"c =\", c,\"\\n\", \"Type:\", type(c), \"\\n\", \"Shape:\", c.shape)\n",
    "\n",
    "c = np.dot(a.T, b)\n",
    "print(\"c =\", c,\"\\n\", \"Type:\", type(c), \"\\n\", \"Shape:\", c.shape)"
   ]
  },
  {
   "cell_type": "code",
   "execution_count": 16,
   "metadata": {},
   "outputs": [
    {
     "name": "stdout",
     "output_type": "stream",
     "text": [
      "a_matrix =\n",
      " [[ 5 10  7]\n",
      " [ 4  4  8]] \n",
      " Type: <class 'numpy.ndarray'> \n",
      " Shape: (2, 3)\n",
      "x = [0 1 2] \n",
      " Type: <class 'numpy.ndarray'> \n",
      " Shape: (3,)\n"
     ]
    }
   ],
   "source": [
    "np.random.seed(7)\n",
    "\n",
    "a_matrix = np.random.randint(1, 11, size=(2, 3))\n",
    "print(\"a_matrix =\\n\", a_matrix,\"\\n\", \"Type:\", type(a_matrix), \"\\n\", \"Shape:\", a_matrix.shape)\n",
    "\n",
    "x = np.arange((3))\n",
    "print(\"x =\", x,\"\\n\", \"Type:\", type(x), \"\\n\", \"Shape:\", x.shape)\n"
   ]
  },
  {
   "cell_type": "code",
   "execution_count": 17,
   "metadata": {},
   "outputs": [
    {
     "name": "stdout",
     "output_type": "stream",
     "text": [
      "result of (a_matrix * x) =\n",
      " [[ 0 10 14]\n",
      " [ 0  4 16]] \n",
      " Type: <class 'numpy.ndarray'> \n",
      " Shape: (2, 3)\n"
     ]
    }
   ],
   "source": [
    "result = a_matrix * x\n",
    "print(\"result of (a_matrix * x) =\\n\", result,\"\\n\", \"Type:\", type(result), \"\\n\", \"Shape:\", result.shape)\n"
   ]
  },
  {
   "cell_type": "code",
   "execution_count": 18,
   "metadata": {},
   "outputs": [
    {
     "name": "stdout",
     "output_type": "stream",
     "text": [
      "result of column sums of (a_matrix * x) =\n",
      " [24 20] \n",
      " Type: <class 'numpy.ndarray'> \n",
      " Shape: (2,)\n"
     ]
    }
   ],
   "source": [
    "\n",
    "result_colsum = np.sum(a_matrix * x, axis=1)\n",
    "print(\"result of column sums of (a_matrix * x) =\\n\", result_colsum,\"\\n\", \"Type:\", type(result_colsum), \"\\n\", \"Shape:\", result_colsum.shape)\n"
   ]
  },
  {
   "cell_type": "code",
   "execution_count": 19,
   "metadata": {},
   "outputs": [
    {
     "name": "stdout",
     "output_type": "stream",
     "text": [
      "result of row sums of (a_matrix * x) =\n",
      " [ 0 14 30] \n",
      " Type: <class 'numpy.ndarray'> \n",
      " Shape: (3,)\n"
     ]
    }
   ],
   "source": [
    "\n",
    "result_rowsum = np.sum(a_matrix * x, axis=0)\n",
    "print(\"result of row sums of (a_matrix * x) =\\n\", result_rowsum,\"\\n\", \"Type:\", type(result_rowsum), \"\\n\", \"Shape:\", result_rowsum.shape)\n"
   ]
  },
  {
   "cell_type": "code",
   "execution_count": 20,
   "metadata": {},
   "outputs": [
    {
     "name": "stdout",
     "output_type": "stream",
     "text": [
      "result of total sum of (a_matrix * x) =\n",
      " 44 \n",
      " Type: <class 'numpy.int32'> \n",
      " Shape: ()\n"
     ]
    }
   ],
   "source": [
    "\n",
    "result_totalsum = np.sum(a_matrix * x)\n",
    "print(\"result of total sum of (a_matrix * x) =\\n\", result_totalsum,\"\\n\", \"Type:\", type(result_totalsum), \"\\n\", \"Shape:\", result_totalsum.shape)\n"
   ]
  },
  {
   "cell_type": "code",
   "execution_count": 21,
   "metadata": {},
   "outputs": [
    {
     "name": "stdout",
     "output_type": "stream",
     "text": [
      "result of total sum of matrix (a_matrix * x) by column sums =\n",
      " 44 \n",
      " Type: <class 'numpy.int32'> \n",
      " Shape: ()\n"
     ]
    }
   ],
   "source": [
    "\n",
    "result_totalsum = np.sum(result_colsum)\n",
    "print(\"result of total sum of matrix (a_matrix * x) by column sums =\\n\", result_totalsum,\"\\n\", \"Type:\", type(result_totalsum), \"\\n\", \"Shape:\", result_totalsum.shape)"
   ]
  },
  {
   "cell_type": "code",
   "execution_count": 22,
   "metadata": {},
   "outputs": [
    {
     "name": "stdout",
     "output_type": "stream",
     "text": [
      "result of total sum of matrix (a_matrix * x) by row sums =\n",
      " 44 \n",
      " Type: <class 'numpy.int32'> \n",
      " Shape: ()\n"
     ]
    }
   ],
   "source": [
    "result_totalsum = np.sum(result_rowsum)\n",
    "print(\"result of total sum of matrix (a_matrix * x) by row sums =\\n\", result_totalsum,\"\\n\", \"Type:\", type(result_totalsum), \"\\n\", \"Shape:\", result_totalsum.shape)"
   ]
  }
 ],
 "metadata": {
  "kernelspec": {
   "display_name": "Python 3",
   "language": "python",
   "name": "python3"
  },
  "language_info": {
   "codemirror_mode": {
    "name": "ipython",
    "version": 3
   },
   "file_extension": ".py",
   "mimetype": "text/x-python",
   "name": "python",
   "nbconvert_exporter": "python",
   "pygments_lexer": "ipython3",
   "version": "3.7.6"
  }
 },
 "nbformat": 4,
 "nbformat_minor": 4
}
