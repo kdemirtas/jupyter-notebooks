{
 "cells": [
  {
   "cell_type": "markdown",
   "metadata": {},
   "source": [
    "# Property Decorators\n",
    "Getters, Setters and Deleters"
   ]
  },
  {
   "cell_type": "code",
   "execution_count": 1,
   "metadata": {},
   "outputs": [
    {
     "name": "stdout",
     "output_type": "stream",
     "text": [
      "Brad\n",
      "Pitt\n",
      "Brad.Pitt@email.com\n",
      "Brad Pitt\n"
     ]
    }
   ],
   "source": [
    "class Employee:\n",
    "    def __init__(self, first, last):\n",
    "        self.first = first\n",
    "        self.last = last\n",
    "        self.email = first + '.' + last + '@email.com'\n",
    "    \n",
    "    def fullname(self):\n",
    "        return \"{} {}\".format(self.first, self.last)\n",
    "\n",
    "emp_1 = Employee('Brad', 'Pitt')\n",
    "print(emp_1.first)\n",
    "print(emp_1.last)\n",
    "print(emp_1.email)\n",
    "print(emp_1.fullname())"
   ]
  },
  {
   "cell_type": "markdown",
   "metadata": {},
   "source": [
    "Let's alter `first` attribute of empl_1 from outside the scope of its class by manually setting it equal to `\"Achilles\"`."
   ]
  },
  {
   "cell_type": "code",
   "execution_count": 4,
   "metadata": {},
   "outputs": [
    {
     "name": "stdout",
     "output_type": "stream",
     "text": [
      "Achilles\n",
      "Pitt\n",
      "Brad.Pitt@email.com\n",
      "Achilles Pitt\n"
     ]
    }
   ],
   "source": [
    "emp_1.first = \"Achilles\"\n",
    "\n",
    "print(emp_1.first)\n",
    "print(emp_1.last)\n",
    "print(emp_1.email)\n",
    "print(emp_1.fullname())"
   ]
  },
  {
   "cell_type": "markdown",
   "metadata": {},
   "source": [
    "Note that this alteration only affected the `first` name attribute of `empl_1`, and did not show up in the `email` attribute. This is because the `email` attribute is assigned once at the initialization and we haven't manually changed it after that. The `fullname` does not have the same problem, because everytime we call the `fullname()` method it grabs the current values of the `first` and `last` name attributes."
   ]
  },
  {
   "cell_type": "markdown",
   "metadata": {},
   "source": [
    "Let's define another class `EmployeeD` to demonstrate the use of `@property` decorators."
   ]
  },
  {
   "cell_type": "code",
   "execution_count": 16,
   "metadata": {},
   "outputs": [
    {
     "name": "stdout",
     "output_type": "stream",
     "text": [
      "Brad\n",
      "Pitt\n",
      "Achilles\n",
      "Achilles.Pitt@email.com\n",
      "Achilles Pitt\n"
     ]
    }
   ],
   "source": [
    "class EmployeeD:\n",
    "    \"\"\"New Employee class using property decorators.\"\"\"\n",
    "    def __init__(self, first, last):\n",
    "        self.first = first\n",
    "        self.last = last\n",
    "    \n",
    "    @property\n",
    "    def email(self):\n",
    "        return \"{}.{}@email.com\".format(self.first, self.last)\n",
    "\n",
    "    @property\n",
    "    def fullname(self):\n",
    "        return \"{} {}\".format(self.first, self.last)\n",
    "\n",
    "    @fullname.setter\n",
    "    def fullname(self, name):\n",
    "        first, last = name.split(' ')\n",
    "        self.first = first\n",
    "        self.last = last\n",
    "\n",
    "    @fullname.deleter\n",
    "    def fullname(self):\n",
    "        print(\"Deleting name!\")\n",
    "        self.first = None\n",
    "        self.last = None\n",
    "\n",
    "emp_1 = EmployeeD('Brad', 'Pitt')\n",
    "print(emp_1.first)\n",
    "print(emp_1.last)\n",
    "\n",
    "emp_1.first = \"Achilles\"\n",
    "print(emp_1.first)\n",
    "\n",
    "print(emp_1.email)\n",
    "print(emp_1.fullname)"
   ]
  },
  {
   "cell_type": "markdown",
   "metadata": {},
   "source": [
    "In the example above, we made `email` and `fullname` class properties. They still behave like dynamic class methods by retrieving the current values of `first` and `last` name attributes, but in this practice, we can call them like attributes omitting the `()` when we were to call class methods. Assigning a new value to class properties is not straigthforward as changing the value of an attribute."
   ]
  },
  {
   "cell_type": "markdown",
   "metadata": {},
   "source": []
  },
  {
   "cell_type": "code",
   "execution_count": 14,
   "metadata": {},
   "outputs": [],
   "source": [
    "emp_1.fullname = \"Taylor Durden\""
   ]
  },
  {
   "cell_type": "markdown",
   "metadata": {},
   "source": [
    "We now need a setter to change the value of `fullname`. When we try to set the value of the `fullname` as if we were setting a new value to a regular class attribute, we get an `AttributeError` if we don't have a `@fullname.setter` decorator. This is because the `fullname` became a property of the class and its value cannot be set from outside of the class scope."
   ]
  },
  {
   "cell_type": "markdown",
   "metadata": {},
   "source": [
    "If we want to delete the `fullname` property attribute, we need a `@fullname.deleter` property decorator. "
   ]
  },
  {
   "cell_type": "code",
   "execution_count": 17,
   "metadata": {},
   "outputs": [
    {
     "name": "stdout",
     "output_type": "stream",
     "text": [
      "Deleting name!\n"
     ]
    }
   ],
   "source": [
    "del emp_1.fullname"
   ]
  },
  {
   "cell_type": "code",
   "execution_count": 19,
   "metadata": {},
   "outputs": [
    {
     "name": "stdout",
     "output_type": "stream",
     "text": [
      "None\n",
      "None\n",
      "None.None@email.com\n",
      "None None\n"
     ]
    }
   ],
   "source": [
    "print(emp_1.first)\n",
    "print(emp_1.last)\n",
    "print(emp_1.email)\n",
    "print(emp_1.fullname)"
   ]
  },
  {
   "cell_type": "code",
   "execution_count": null,
   "metadata": {},
   "outputs": [],
   "source": []
  }
 ],
 "metadata": {
  "interpreter": {
   "hash": "6b9d32b3a5cb09b75b914e3c613ec205e4876a9806cf3652991ceed9d8ef5f94"
  },
  "kernelspec": {
   "display_name": "Python 3.7.6 64-bit ('base': conda)",
   "language": "python",
   "name": "python3"
  },
  "language_info": {
   "codemirror_mode": {
    "name": "ipython",
    "version": 3
   },
   "file_extension": ".py",
   "mimetype": "text/x-python",
   "name": "python",
   "nbconvert_exporter": "python",
   "pygments_lexer": "ipython3",
   "version": "3.7.6"
  },
  "orig_nbformat": 4
 },
 "nbformat": 4,
 "nbformat_minor": 2
}
