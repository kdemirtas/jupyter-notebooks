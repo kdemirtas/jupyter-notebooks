{
 "cells": [
  {
   "cell_type": "markdown",
   "metadata": {},
   "source": [
    "# Metaclasses and Classes Unveiled\n",
    "### A Brief Intro"
   ]
  },
  {
   "cell_type": "code",
   "execution_count": 3,
   "metadata": {},
   "outputs": [
    {
     "name": "stdout",
     "output_type": "stream",
     "text": [
      "<class '__main__.Test'>\n",
      "<class 'type'>\n",
      "<__main__.Test object at 0x000001E562584848>\n",
      "<class '__main__.Test'>\n"
     ]
    }
   ],
   "source": [
    "class Test:\n",
    "    pass\n",
    "\n",
    "print(Test)\n",
    "print(type(Test))\n",
    "print(Test())\n",
    "print(type(Test()))"
   ]
  },
  {
   "cell_type": "markdown",
   "metadata": {},
   "source": [
    "We see that the `type` of the instance `Test()` is class of `Text` we defined. In Python everything are objects and objects need to be created by another object. Therefore, `class` is also an object, and if we look at its `type` we see that it is a `class` named as `type`.\n",
    "\n",
    "We can define the class `Test` without using the syntax `class` by using the `type` of `class`, which is `type. It is a bit confusing in the first place. Take a look at the following code chunkf for clarification."
   ]
  },
  {
   "cell_type": "code",
   "execution_count": 4,
   "metadata": {},
   "outputs": [
    {
     "name": "stdout",
     "output_type": "stream",
     "text": [
      "5\n"
     ]
    }
   ],
   "source": [
    "Test = type('Test', (), {'x': 5})\n",
    "t = Test()\n",
    "print(t.x)"
   ]
  },
  {
   "cell_type": "markdown",
   "metadata": {},
   "source": [
    "The above declaration is the same as declaring as `class Test:`. `()` contains any inheritance from another class, and the `{}` is for setting class attributes. It means that we declare a class named `Test` without any inheritance, set its `x` attribute to 5. Then, we create an instance `t` of class `Test` and `print` its `x` attribute."
   ]
  },
  {
   "cell_type": "code",
   "execution_count": 5,
   "metadata": {},
   "outputs": [
    {
     "name": "stdout",
     "output_type": "stream",
     "text": [
      "hello\n"
     ]
    }
   ],
   "source": [
    "t.wy = \"hello\"\n",
    "print(t.wy)"
   ]
  },
  {
   "cell_type": "markdown",
   "metadata": {},
   "source": [
    "You can set the value of its attributes just like regular classes. Look at the example below to see how once can add attributes and methods to the classes when declared by the `type` syntax."
   ]
  },
  {
   "cell_type": "code",
   "execution_count": 7,
   "metadata": {},
   "outputs": [
    {
     "name": "stdout",
     "output_type": "stream",
     "text": [
      "hi\n",
      "7\n"
     ]
    }
   ],
   "source": [
    "class Foo:\n",
    "    def show(self):\n",
    "        print(\"hi\")\n",
    "\n",
    "def add_attribute(self):\n",
    "    self.z = 7\n",
    "\n",
    "Test = type('Test', (Foo, ), {'x': 5, \"add_attribute\": add_attribute})\n",
    "t = Test()\n",
    "t.show()\n",
    "t.add_attribute()\n",
    "print(t.z)"
   ]
  },
  {
   "cell_type": "markdown",
   "metadata": {},
   "source": [
    "After the background knowledge, now into Metaclasses...\n",
    "\n",
    "In order to define a Metaclass, we have to inherit from the `type` class. The `__new__` method is a special method, which is sometimes referred to as \"before the `init`\" method."
   ]
  },
  {
   "cell_type": "code",
   "execution_count": 19,
   "metadata": {},
   "outputs": [
    {
     "name": "stdout",
     "output_type": "stream",
     "text": [
      "{'__module__': '__main__', '__qualname__': 'Dog', 'x': 5, 'y': 8, 'hello': <function Dog.hello at 0x000001E5625AEB88>}\n",
      "{'__module__': '__main__', '__qualname__': 'Dog', 'X': 5, 'Y': 8, 'HELLO': <function Dog.hello at 0x000001E5625AEB88>}\n"
     ]
    }
   ],
   "source": [
    "class Meta(type):\n",
    "    def __new__(self, class_name, bases, attributes):\n",
    "        print(attributes)\n",
    "\n",
    "        a = {}\n",
    "        for name, value in attributes.items():\n",
    "            if name.startswith(\"__\"):\n",
    "                a[name] = value\n",
    "            else:\n",
    "                a[name.upper()] = value\n",
    "\n",
    "        print(a)\n",
    "\n",
    "        return type(class_name, bases, a)\n",
    "\n",
    "        \n",
    "class Dog(metaclass=Meta):\n",
    "    x = 5\n",
    "    y = 8\n",
    "\n",
    "    def hello(self):\n",
    "        print(\"hi\")\n"
   ]
  },
  {
   "cell_type": "markdown",
   "metadata": {},
   "source": [
    "In the example above, it looks like we declare a class `Dog` with two attributes `x` and `y` being equal to 5 and 8, respectively. We also have a method `hello`. However, we define `Meta` as the metaclass in the declaration. This causes the `__new__` method of `class Meta` to run first and arrange what the `Dog` `class` will actually behave like. In the `for` loop, we iterate over all the attributes and methods of the `Dog` `class`, and reset the attribute names with their uppercase counterparts unless the original name starts with dunderscores (`\"__\"`)."
   ]
  },
  {
   "cell_type": "code",
   "execution_count": 22,
   "metadata": {},
   "outputs": [
    {
     "ename": "AttributeError",
     "evalue": "'Dog' object has no attribute 'x'",
     "output_type": "error",
     "traceback": [
      "\u001b[1;31m---------------------------------------------------------------------------\u001b[0m",
      "\u001b[1;31mAttributeError\u001b[0m                            Traceback (most recent call last)",
      "\u001b[1;32m<ipython-input-22-c12ac16f112c>\u001b[0m in \u001b[0;36m<module>\u001b[1;34m\u001b[0m\n\u001b[0;32m      1\u001b[0m \u001b[0md\u001b[0m \u001b[1;33m=\u001b[0m \u001b[0mDog\u001b[0m\u001b[1;33m(\u001b[0m\u001b[1;33m)\u001b[0m\u001b[1;33m\u001b[0m\u001b[1;33m\u001b[0m\u001b[0m\n\u001b[1;32m----> 2\u001b[1;33m \u001b[0mprint\u001b[0m\u001b[1;33m(\u001b[0m\u001b[0md\u001b[0m\u001b[1;33m.\u001b[0m\u001b[0mx\u001b[0m\u001b[1;33m)\u001b[0m\u001b[1;33m\u001b[0m\u001b[1;33m\u001b[0m\u001b[0m\n\u001b[0m\u001b[0;32m      3\u001b[0m \u001b[0md\u001b[0m\u001b[1;33m.\u001b[0m\u001b[0mhello\u001b[0m\u001b[1;33m(\u001b[0m\u001b[1;33m)\u001b[0m\u001b[1;33m\u001b[0m\u001b[1;33m\u001b[0m\u001b[0m\n",
      "\u001b[1;31mAttributeError\u001b[0m: 'Dog' object has no attribute 'x'"
     ]
    }
   ],
   "source": [
    "d = Dog()\n",
    "print(d.x)\n",
    "d.hello()"
   ]
  },
  {
   "cell_type": "markdown",
   "metadata": {},
   "source": [
    "When we try to access the attributes and the methods by their original lower case names, we get an `AttributeError` since these names have been replaced with their upper case versions and are no longer available. Therefore, we have to use `d.X` and `d.HELLO()` to access these attributes and methods."
   ]
  },
  {
   "cell_type": "code",
   "execution_count": 23,
   "metadata": {},
   "outputs": [
    {
     "name": "stdout",
     "output_type": "stream",
     "text": [
      "5\n",
      "hi\n"
     ]
    }
   ],
   "source": [
    "print(d.X)\n",
    "d.HELLO()\n"
   ]
  }
 ],
 "metadata": {
  "interpreter": {
   "hash": "6b9d32b3a5cb09b75b914e3c613ec205e4876a9806cf3652991ceed9d8ef5f94"
  },
  "kernelspec": {
   "display_name": "Python 3.7.6 64-bit ('base': conda)",
   "language": "python",
   "name": "python3"
  },
  "language_info": {
   "codemirror_mode": {
    "name": "ipython",
    "version": 3
   },
   "file_extension": ".py",
   "mimetype": "text/x-python",
   "name": "python",
   "nbconvert_exporter": "python",
   "pygments_lexer": "ipython3",
   "version": "3.7.6"
  },
  "orig_nbformat": 4
 },
 "nbformat": 4,
 "nbformat_minor": 2
}
