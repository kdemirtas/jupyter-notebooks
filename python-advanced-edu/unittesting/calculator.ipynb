{
 "cells": [
  {
   "cell_type": "markdown",
   "metadata": {},
   "source": [
    "# Unit Testing the Code with `unittest` Module"
   ]
  },
  {
   "cell_type": "code",
   "execution_count": null,
   "metadata": {},
   "outputs": [],
   "source": [
    "def add(x, y):\n",
    "    \"\"\"Add function\"\"\"\n",
    "    return x + y\n",
    "\n",
    "def subtract(x, y):\n",
    "    \"\"\"Subtract function\"\"\"\n",
    "    return x - y\n",
    "\n",
    "def multiply(x, y):\n",
    "    \"\"\"Multiply function\"\"\"\n",
    "    return x * y\n",
    "\n",
    "def divide(x, y):\n",
    "    \"\"\"Divide function\"\"\"\n",
    "    if y == 0:\n",
    "        raise ValueError(\"Can not divide by zero\")\n",
    "    return x / y"
   ]
  },
  {
   "cell_type": "markdown",
   "metadata": {},
   "source": [
    "A simple way of testing for beginners is putting print statements along the code to verify that our functions are actually doing what they are supposed to do. However, it is tedious, repetitive and hard to automate and document. When you are working on big projects, it is essential to have a way of systematic testing of the functionality of each and every other component of your code.\n",
    "Unit testing offers an easy and neat way of testing, which has significant importance on the whole lifetime and the successfull outcome of the project. \n",
    "- It makes it easy to find the bugs. \n",
    "- It gives you an idea of what components are the main causes if your build fails.\n",
    "- Refactoring becomes easier and more reliable.\n",
    "- Makes it more unlikely to break the code when adding new features."
   ]
  },
  {
   "cell_type": "code",
   "execution_count": null,
   "metadata": {},
   "outputs": [],
   "source": []
  }
 ],
 "metadata": {
  "language_info": {
   "name": "python"
  },
  "orig_nbformat": 4
 },
 "nbformat": 4,
 "nbformat_minor": 2
}
