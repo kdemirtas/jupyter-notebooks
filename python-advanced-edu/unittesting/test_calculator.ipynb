{
 "cells": [
  {
   "cell_type": "markdown",
   "metadata": {},
   "source": [
    "# Unit Testing the Code with `unittest` Module"
   ]
  },
  {
   "cell_type": "markdown",
   "metadata": {},
   "source": [
    "A simple way of testing for beginners is putting print statements along the code to verify that our functions are actually doing what they are supposed to do. However, it is tedious, repetitive and hard to automate and document. When you are working on big projects, it is essential to have a way of systematic testing of the functionality of each and every other component of your code.\n",
    "Unit testing offers an easy and neat way of testing, which has significant importance on the whole lifetime and the successfull outcome of the project. \n",
    "- It makes it easy to find the bugs. \n",
    "- It gives you an idea of what components are the main causes if your build fails.\n",
    "- Refactoring becomes easier and more reliable.\n",
    "- Makes it more unlikely to break the code when adding new features."
   ]
  },
  {
   "cell_type": "markdown",
   "metadata": {},
   "source": [
    "Let's import the `unittest` module and the calculator to test the functions we have in the calculator.ipynb notebook located in the same folder as this notebook.\n",
    "Note that, in order to do this, you need a third party package `import_ipynb`, which available via `pip`: `pip install import-ipynb`.\n",
    "Similarly, if you don't have the `unittest` module, just simply do a `pip install unittest`."
   ]
  },
  {
   "cell_type": "markdown",
   "metadata": {},
   "source": [
    "It would be a good practice to define a class for testing that inherits form `unittest.TestCase`. This way, we will be able to use the functionality provided by the `unittest` module. The naming convention in the class methods is important because `unittest` searches for a certain pattern to understand that a method is in fact a method to test another component in the code. Hence, we chose to define all our methods starting with `test_`."
   ]
  },
  {
   "cell_type": "code",
   "execution_count": 9,
   "metadata": {},
   "outputs": [
    {
     "name": "stderr",
     "output_type": "stream",
     "text": [
      "test_add (__main__.TestCalculator) ... ok\n",
      "test_divide (__main__.TestCalculator) ... ok\n",
      "test_multiply (__main__.TestCalculator) ... ok\n",
      "test_subtract (__main__.TestCalculator) ... ok\n",
      "\n",
      "----------------------------------------------------------------------\n",
      "Ran 4 tests in 0.003s\n",
      "\n",
      "OK\n"
     ]
    },
    {
     "data": {
      "text/plain": [
       "<unittest.main.TestProgram at 0x16370b84fc8>"
      ]
     },
     "execution_count": 9,
     "metadata": {},
     "output_type": "execute_result"
    }
   ],
   "source": [
    "import unittest\n",
    "\n",
    "import import_ipynb\n",
    "import calculator\n",
    "\n",
    "class TestCalculator(unittest.TestCase):\n",
    "    \n",
    "    def test_add(self):\n",
    "        self.assertEqual(calculator.add(10, 5), 15)\n",
    "        self.assertEqual(calculator.add(-1, 1), 0)\n",
    "        self.assertEqual(calculator.add(-1, -1), -2)\n",
    "\n",
    "    def test_subtract(self):\n",
    "        self.assertEqual(calculator.subtract(10, 5), 5)\n",
    "        self.assertEqual(calculator.subtract(-1, 1), -2)\n",
    "        self.assertEqual(calculator.subtract(-1, -1), 0)\n",
    "\n",
    "    def test_multiply(self):\n",
    "        self.assertEqual(calculator.multiply(10, 5), 50)\n",
    "        self.assertEqual(calculator.multiply(-1, 1), -1)\n",
    "        self.assertEqual(calculator.multiply(-1, -1), 1)\n",
    "\n",
    "    def test_divide(self):\n",
    "        self.assertEqual(calculator.divide(10, 5), 2)\n",
    "        self.assertEqual(calculator.divide(-1, 1), -1)\n",
    "        self.assertEqual(calculator.divide(-1, -1), 1)\n",
    "        self.assertEqual(calculator.divide(5, 2), 2.5)\n",
    "        with self.assertRaises(ValueError):\n",
    "            calculator.divide(10, 0)\n",
    "\n",
    "unittest.main(argv=[''], verbosity=2, exit=False)"
   ]
  },
  {
   "cell_type": "markdown",
   "metadata": {},
   "source": [
    "https://docs.python.org/3/library/unittest.html"
   ]
  },
  {
   "cell_type": "code",
   "execution_count": null,
   "metadata": {},
   "outputs": [],
   "source": []
  }
 ],
 "metadata": {
  "interpreter": {
   "hash": "6b9d32b3a5cb09b75b914e3c613ec205e4876a9806cf3652991ceed9d8ef5f94"
  },
  "kernelspec": {
   "display_name": "Python 3.7.6 64-bit ('base': conda)",
   "language": "python",
   "name": "python3"
  },
  "language_info": {
   "codemirror_mode": {
    "name": "ipython",
    "version": 3
   },
   "file_extension": ".py",
   "mimetype": "text/x-python",
   "name": "python",
   "nbconvert_exporter": "python",
   "pygments_lexer": "ipython3",
   "version": "3.7.6"
  },
  "orig_nbformat": 4
 },
 "nbformat": 4,
 "nbformat_minor": 2
}
