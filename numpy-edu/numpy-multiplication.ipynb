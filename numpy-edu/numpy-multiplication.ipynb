{
 "cells": [
  {
   "cell_type": "code",
   "execution_count": 11,
   "metadata": {},
   "outputs": [],
   "source": [
    "import numpy as np"
   ]
  },
  {
   "cell_type": "code",
   "execution_count": 12,
   "metadata": {},
   "outputs": [
    {
     "name": "stdout",
     "output_type": "stream",
     "text": [
      "c = [ 4 10 18] \n",
      " Type: <class 'numpy.ndarray'> \n",
      " Shape: (3,)\n"
     ]
    }
   ],
   "source": [
    "a = np.array([1, 2, 3])\n",
    "b = np.array([4, 5, 6])\n",
    "c = a * b\n",
    "print(\"c =\", c,\"\\n\", \"Type:\", type(c), \"\\n\", \"Shape:\", c.shape)"
   ]
  },
  {
   "cell_type": "code",
   "execution_count": 13,
   "metadata": {},
   "outputs": [
    {
     "name": "stdout",
     "output_type": "stream",
     "text": [
      "c = [ 4 10 18] \n",
      " Type: <class 'numpy.ndarray'> \n",
      " Shape: (3,)\n"
     ]
    }
   ],
   "source": [
    "c = np.multiply(a, b)\n",
    "print(\"c =\", c,\"\\n\", \"Type:\", type(c), \"\\n\", \"Shape:\", c.shape)"
   ]
  },
  {
   "cell_type": "code",
   "execution_count": 14,
   "metadata": {},
   "outputs": [
    {
     "name": "stdout",
     "output_type": "stream",
     "text": [
      "c = 32 \n",
      " Type: <class 'numpy.int32'> \n",
      " Shape: ()\n",
      "c = 32 \n",
      " Type: <class 'numpy.int32'> \n",
      " Shape: ()\n",
      "c = 32 \n",
      " Type: <class 'numpy.int32'> \n",
      " Shape: ()\n"
     ]
    }
   ],
   "source": [
    "c = np.dot(a, b)\n",
    "print(\"c =\", c,\"\\n\", \"Type:\", type(c), \"\\n\", \"Shape:\", c.shape)\n",
    "\n",
    "c = np.dot(a, b.T)\n",
    "print(\"c =\", c,\"\\n\", \"Type:\", type(c), \"\\n\", \"Shape:\", c.shape)\n",
    "\n",
    "c = np.dot(a.T, b)\n",
    "print(\"c =\", c,\"\\n\", \"Type:\", type(c), \"\\n\", \"Shape:\", c.shape)"
   ]
  }
 ],
 "metadata": {
  "kernelspec": {
   "display_name": "Python 3",
   "language": "python",
   "name": "python3"
  },
  "language_info": {
   "codemirror_mode": {
    "name": "ipython",
    "version": 3
   },
   "file_extension": ".py",
   "mimetype": "text/x-python",
   "name": "python",
   "nbconvert_exporter": "python",
   "pygments_lexer": "ipython3",
   "version": "3.7.6"
  }
 },
 "nbformat": 4,
 "nbformat_minor": 4
}
